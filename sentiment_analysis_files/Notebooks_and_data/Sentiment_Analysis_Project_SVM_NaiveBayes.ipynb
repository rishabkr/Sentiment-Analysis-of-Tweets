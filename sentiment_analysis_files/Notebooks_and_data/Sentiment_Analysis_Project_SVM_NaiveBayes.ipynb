{
 "cells": [
  {
   "cell_type": "code",
   "execution_count": 1,
   "metadata": {},
   "outputs": [
    {
     "name": "stderr",
     "output_type": "stream",
     "text": [
      "[nltk_data] Downloading package stopwords to\n",
      "[nltk_data]     C:\\Users\\risha\\AppData\\Roaming\\nltk_data...\n",
      "[nltk_data]   Package stopwords is already up-to-date!\n",
      "[nltk_data] Downloading package wordnet to\n",
      "[nltk_data]     C:\\Users\\risha\\AppData\\Roaming\\nltk_data...\n",
      "[nltk_data]   Package wordnet is already up-to-date!\n"
     ]
    }
   ],
   "source": [
    "import re\n",
    "import nltk\n",
    "nltk.download('stopwords')\n",
    "nltk.download('wordnet')\n",
    "from nltk.corpus import stopwords\n",
    "from nltk.stem.porter import PorterStemmer\n",
    "from sklearn.metrics import confusion_matrix,f1_score,accuracy_score\n",
    "from time import time\n",
    "import numpy as np\n",
    "import pandas as pd\n",
    "import string\n",
    "from numpy.random import RandomState\n",
    "import urllib.parse\n",
    "import tensorflow as tf\n",
    "from nltk.stem import WordNetLemmatizer\n",
    "import matplotlib.pyplot as plt"
   ]
  },
  {
   "cell_type": "code",
   "execution_count": 2,
   "metadata": {},
   "outputs": [],
   "source": [
    "df=pd.read_csv('train.txt')"
   ]
  },
  {
   "cell_type": "code",
   "execution_count": 3,
   "metadata": {
    "scrolled": true
   },
   "outputs": [
    {
     "data": {
      "text/html": [
       "<div>\n",
       "<style scoped>\n",
       "    .dataframe tbody tr th:only-of-type {\n",
       "        vertical-align: middle;\n",
       "    }\n",
       "\n",
       "    .dataframe tbody tr th {\n",
       "        vertical-align: top;\n",
       "    }\n",
       "\n",
       "    .dataframe thead th {\n",
       "        text-align: right;\n",
       "    }\n",
       "</style>\n",
       "<table border=\"1\" class=\"dataframe\">\n",
       "  <thead>\n",
       "    <tr style=\"text-align: right;\">\n",
       "      <th></th>\n",
       "      <th>tweet_id</th>\n",
       "      <th>sentiment</th>\n",
       "      <th>tweet_text</th>\n",
       "    </tr>\n",
       "  </thead>\n",
       "  <tbody>\n",
       "    <tr>\n",
       "      <th>0</th>\n",
       "      <td>264183816548130816</td>\n",
       "      <td>positive</td>\n",
       "      <td>Gas by my house hit $3.39!!!! I\\u2019m going t...</td>\n",
       "    </tr>\n",
       "    <tr>\n",
       "      <th>1</th>\n",
       "      <td>263405084770172928</td>\n",
       "      <td>negative</td>\n",
       "      <td>Theo Walcott is still shit\\u002c watch Rafa an...</td>\n",
       "    </tr>\n",
       "    <tr>\n",
       "      <th>2</th>\n",
       "      <td>262163168678248449</td>\n",
       "      <td>negative</td>\n",
       "      <td>its not that I\\u2019m a GSP fan\\u002c i just h...</td>\n",
       "    </tr>\n",
       "    <tr>\n",
       "      <th>3</th>\n",
       "      <td>264249301910310912</td>\n",
       "      <td>negative</td>\n",
       "      <td>Iranian general says Israel\\u2019s Iron Dome c...</td>\n",
       "    </tr>\n",
       "    <tr>\n",
       "      <th>4</th>\n",
       "      <td>262682041215234048</td>\n",
       "      <td>neutral</td>\n",
       "      <td>Tehran\\u002c Mon Amour: Obama Tried to Establi...</td>\n",
       "    </tr>\n",
       "    <tr>\n",
       "      <th>...</th>\n",
       "      <td>...</td>\n",
       "      <td>...</td>\n",
       "      <td>...</td>\n",
       "    </tr>\n",
       "    <tr>\n",
       "      <th>21460</th>\n",
       "      <td>522949024132112384</td>\n",
       "      <td>neutral</td>\n",
       "      <td>the day after newark ill be able to say \"\"i me...</td>\n",
       "    </tr>\n",
       "    <tr>\n",
       "      <th>21461</th>\n",
       "      <td>522372593312350209</td>\n",
       "      <td>neutral</td>\n",
       "      <td>FEC hold farewell session for seven ministers ...</td>\n",
       "    </tr>\n",
       "    <tr>\n",
       "      <th>21462</th>\n",
       "      <td>522515200592052224</td>\n",
       "      <td>neutral</td>\n",
       "      <td>Luca Di Montezemolo (who's last day was Monday...</td>\n",
       "    </tr>\n",
       "    <tr>\n",
       "      <th>21463</th>\n",
       "      <td>523089087155437568</td>\n",
       "      <td>positive</td>\n",
       "      <td>Coffee is pretty much the answer to all questi...</td>\n",
       "    </tr>\n",
       "    <tr>\n",
       "      <th>21464</th>\n",
       "      <td>518290874300514304</td>\n",
       "      <td>neutral</td>\n",
       "      <td>Niki Lauda just confirmed to Sky that Alonso w...</td>\n",
       "    </tr>\n",
       "  </tbody>\n",
       "</table>\n",
       "<p>21465 rows × 3 columns</p>\n",
       "</div>"
      ],
      "text/plain": [
       "                 tweet_id sentiment  \\\n",
       "0      264183816548130816  positive   \n",
       "1      263405084770172928  negative   \n",
       "2      262163168678248449  negative   \n",
       "3      264249301910310912  negative   \n",
       "4      262682041215234048   neutral   \n",
       "...                   ...       ...   \n",
       "21460  522949024132112384   neutral   \n",
       "21461  522372593312350209   neutral   \n",
       "21462  522515200592052224   neutral   \n",
       "21463  523089087155437568  positive   \n",
       "21464  518290874300514304   neutral   \n",
       "\n",
       "                                              tweet_text  \n",
       "0      Gas by my house hit $3.39!!!! I\\u2019m going t...  \n",
       "1      Theo Walcott is still shit\\u002c watch Rafa an...  \n",
       "2      its not that I\\u2019m a GSP fan\\u002c i just h...  \n",
       "3      Iranian general says Israel\\u2019s Iron Dome c...  \n",
       "4      Tehran\\u002c Mon Amour: Obama Tried to Establi...  \n",
       "...                                                  ...  \n",
       "21460  the day after newark ill be able to say \"\"i me...  \n",
       "21461  FEC hold farewell session for seven ministers ...  \n",
       "21462  Luca Di Montezemolo (who's last day was Monday...  \n",
       "21463  Coffee is pretty much the answer to all questi...  \n",
       "21464  Niki Lauda just confirmed to Sky that Alonso w...  \n",
       "\n",
       "[21465 rows x 3 columns]"
      ]
     },
     "execution_count": 3,
     "metadata": {},
     "output_type": "execute_result"
    }
   ],
   "source": [
    "df"
   ]
  },
  {
   "cell_type": "code",
   "execution_count": 4,
   "metadata": {},
   "outputs": [
    {
     "data": {
      "text/plain": [
       "(array(['negative', 'neutral', 'positive'], dtype=object),\n",
       " array([3387, 9014, 9064], dtype=int64))"
      ]
     },
     "execution_count": 4,
     "metadata": {},
     "output_type": "execute_result"
    }
   ],
   "source": [
    "np.unique(df['sentiment'].values,return_counts=True)"
   ]
  },
  {
   "cell_type": "code",
   "execution_count": 5,
   "metadata": {},
   "outputs": [],
   "source": [
    "text_list=df['tweet_text'].values.tolist()"
   ]
  },
  {
   "cell_type": "code",
   "execution_count": 6,
   "metadata": {
    "scrolled": false
   },
   "outputs": [
    {
     "name": "stdout",
     "output_type": "stream",
     "text": [
      "------------------------------------------------------------------------------\n",
      "Gas by my house hit $3.39!!!! I\\u2019m going to Chapel Hill on Sat. :)\n",
      "------------------------------------------------------------------------------\n",
      "Theo Walcott is still shit\\u002c watch Rafa and Johnny deal with him on Saturday.\n",
      "------------------------------------------------------------------------------\n",
      "its not that I\\u2019m a GSP fan\\u002c i just hate Nick Diaz. can\\u2019t wait for february.\n",
      "------------------------------------------------------------------------------\n",
      "Iranian general says Israel\\u2019s Iron Dome can\\u2019t deal with their missiles (keep talking like that and we may end up finding out)\n",
      "------------------------------------------------------------------------------\n",
      "Tehran\\u002c Mon Amour: Obama Tried to Establish Ties with the Mullahs http://t.co/TZZzrrKa via @PJMedia_com No Barack Obama - Vote Mitt Romney\n",
      "------------------------------------------------------------------------------\n",
      "I sat through this whole movie just for Harry and Ron at christmas. ohlawd\n",
      "------------------------------------------------------------------------------\n",
      "with J Davlar 11th. Main rivals are team Poland. Hopefully we an make it a successful end to a tough week of training tomorrow.\n",
      "------------------------------------------------------------------------------\n",
      "Talking about ACT\\u2019s && SAT\\u2019s\\u002c deciding where I want to go to college\\u002c applying to colleges and everything about college stresses me out.\n",
      "------------------------------------------------------------------------------\n",
      "Why is \\\"\"Happy Valentines Day\\\"\" trending? It\\u2019s on the 14th of February not 12th of June smh..\n",
      "------------------------------------------------------------------------------\n",
      "They may have a SuperBowl in Dallas\\u002c but Dallas ain\\u2019t winning a SuperBowl. Not with that quarterback and owner. @S4NYC @RasmussenPoll\n",
      "------------------------------------------------------------------------------\n",
      "Im bringing the monster load of candy tomorrow\\u002c I just hope it doesn\\u2019t get all squiched\n",
      "------------------------------------------------------------------------------\n",
      "Apple software\\u002c retail chiefs out in overhaul: SAN FRANCISCO Apple Inc CEO Tim Cook on Monday replaced the heads... http://t.co/X49ZEOsG\n",
      "------------------------------------------------------------------------------\n",
      "@oluoch @victor_otti @kunjand I just watched it! Sridevi\\u2019s comeback.... U remember her from the 90s?? Sun mornings on NTA ;)\n",
      "------------------------------------------------------------------------------\n",
      "One of my best 8th graders Kory was excited after his touchdown today!! He did the victor cruz!!lol http://t.co/tqORFrXB\n",
      "------------------------------------------------------------------------------\n",
      "#Livewire Nadal confirmed for Mexican Open in February: Rafael Nadal is set to play at the Me... http://t.co/zgUXpcnC #LiveWireAthletics\n",
      "------------------------------------------------------------------------------\n",
      "@MsSheLahY I didnt want to just pop up... but yep we have chapel hill next wednesday you should come.. and shes great ill tell her you asked\n",
      "------------------------------------------------------------------------------\n",
      "@Alyoup005 @addicted2haley hmmmm  November is an odd release date if true but if it becomes big enough maybe she could sing it at Grammys\n",
      "------------------------------------------------------------------------------\n",
      "#Iran US delisting MKO from global terrorists list in line with Iran campaign: Tehran\\u002c Oct 30\\u002c IRNA -- Secretary... http://t.co/9wWvxEbf\n",
      "------------------------------------------------------------------------------\n",
      "@JackStirling serge is amazing... like hes actually a god the lanky sex god... i saw kasabian and noel together in august. it was amazing.\n",
      "------------------------------------------------------------------------------\n",
      "@HatersgonnHate_ @HAMlikeHussain @Ramythe3lite Larry Bird is ranked 4th all-time not including Lebron or Kobe just sayin...\n"
     ]
    }
   ],
   "source": [
    "for i in range(20):\n",
    "    print('------------------------------------------------------------------------------')\n",
    "    print(text_list[i])"
   ]
  },
  {
   "cell_type": "code",
   "execution_count": 7,
   "metadata": {},
   "outputs": [],
   "source": [
    "test=pd.read_csv('test_samples.txt')"
   ]
  },
  {
   "cell_type": "code",
   "execution_count": 8,
   "metadata": {},
   "outputs": [
    {
     "data": {
      "text/html": [
       "<div>\n",
       "<style scoped>\n",
       "    .dataframe tbody tr th:only-of-type {\n",
       "        vertical-align: middle;\n",
       "    }\n",
       "\n",
       "    .dataframe tbody tr th {\n",
       "        vertical-align: top;\n",
       "    }\n",
       "\n",
       "    .dataframe thead th {\n",
       "        text-align: right;\n",
       "    }\n",
       "</style>\n",
       "<table border=\"1\" class=\"dataframe\">\n",
       "  <thead>\n",
       "    <tr style=\"text-align: right;\">\n",
       "      <th></th>\n",
       "      <th>tweet_id</th>\n",
       "      <th>tweet_text</th>\n",
       "    </tr>\n",
       "  </thead>\n",
       "  <tbody>\n",
       "    <tr>\n",
       "      <th>0</th>\n",
       "      <td>264238274963451904</td>\n",
       "      <td>@jjuueellzz down in the Atlantic city, ventnor...</td>\n",
       "    </tr>\n",
       "    <tr>\n",
       "      <th>1</th>\n",
       "      <td>218775148495515649</td>\n",
       "      <td>Musical awareness: Great Big Beautiful Tomorro...</td>\n",
       "    </tr>\n",
       "    <tr>\n",
       "      <th>2</th>\n",
       "      <td>258965201766998017</td>\n",
       "      <td>On Radio786 100.4fm 7:10 Fri Oct 19 Labour ana...</td>\n",
       "    </tr>\n",
       "    <tr>\n",
       "      <th>3</th>\n",
       "      <td>262926411352903682</td>\n",
       "      <td>Kapan sih lo ngebuktiin,jan ngomong doang Susa...</td>\n",
       "    </tr>\n",
       "    <tr>\n",
       "      <th>4</th>\n",
       "      <td>171874368908050432</td>\n",
       "      <td>Excuse the connectivity of this live stream, f...</td>\n",
       "    </tr>\n",
       "    <tr>\n",
       "      <th>...</th>\n",
       "      <td>...</td>\n",
       "      <td>...</td>\n",
       "    </tr>\n",
       "    <tr>\n",
       "      <th>5393</th>\n",
       "      <td>210378118865756160</td>\n",
       "      <td>It's a Wednesday girls night out as '90's band...</td>\n",
       "    </tr>\n",
       "    <tr>\n",
       "      <th>5394</th>\n",
       "      <td>245177521304399872</td>\n",
       "      <td>night college course sorted, just have to enro...</td>\n",
       "    </tr>\n",
       "    <tr>\n",
       "      <th>5395</th>\n",
       "      <td>259280987089932288</td>\n",
       "      <td>For the 1st time in 30 years. For your splendi...</td>\n",
       "    </tr>\n",
       "    <tr>\n",
       "      <th>5396</th>\n",
       "      <td>201113950211940352</td>\n",
       "      <td>NURSES DAY - 12 MAY 2012. Nursing: The heart b...</td>\n",
       "    </tr>\n",
       "    <tr>\n",
       "      <th>5397</th>\n",
       "      <td>237999067286876160</td>\n",
       "      <td>We have 15 minutes left until the 2nd episode ...</td>\n",
       "    </tr>\n",
       "  </tbody>\n",
       "</table>\n",
       "<p>5398 rows × 2 columns</p>\n",
       "</div>"
      ],
      "text/plain": [
       "                tweet_id                                         tweet_text\n",
       "0     264238274963451904  @jjuueellzz down in the Atlantic city, ventnor...\n",
       "1     218775148495515649  Musical awareness: Great Big Beautiful Tomorro...\n",
       "2     258965201766998017  On Radio786 100.4fm 7:10 Fri Oct 19 Labour ana...\n",
       "3     262926411352903682  Kapan sih lo ngebuktiin,jan ngomong doang Susa...\n",
       "4     171874368908050432  Excuse the connectivity of this live stream, f...\n",
       "...                  ...                                                ...\n",
       "5393  210378118865756160  It's a Wednesday girls night out as '90's band...\n",
       "5394  245177521304399872  night college course sorted, just have to enro...\n",
       "5395  259280987089932288  For the 1st time in 30 years. For your splendi...\n",
       "5396  201113950211940352  NURSES DAY - 12 MAY 2012. Nursing: The heart b...\n",
       "5397  237999067286876160  We have 15 minutes left until the 2nd episode ...\n",
       "\n",
       "[5398 rows x 2 columns]"
      ]
     },
     "execution_count": 8,
     "metadata": {},
     "output_type": "execute_result"
    }
   ],
   "source": [
    "test"
   ]
  },
  {
   "cell_type": "code",
   "execution_count": 9,
   "metadata": {},
   "outputs": [],
   "source": [
    "def url_parser(string):\n",
    "  new_string = ''\n",
    "  for i in string.split():\n",
    "     s, n, p, pa, q, f = urllib.parse.urlparse(i)\n",
    "     if s and n:\n",
    "         pass\n",
    "     elif i[:1] == '@':\n",
    "         pass\n",
    "     elif i[:1] == '#':\n",
    "         new_string = new_string.strip() + ' ' + i[1:]\n",
    "     else:\n",
    "         new_string = new_string.strip() + ' ' + i\n",
    "  return new_string"
   ]
  },
  {
   "cell_type": "code",
   "execution_count": 10,
   "metadata": {},
   "outputs": [],
   "source": [
    "emoji_pattern = re.compile(\"[\"\n",
    "        u\"\\U0001F600-\\U0001F64F\"  # emoticons\n",
    "        u\"\\U0001F300-\\U0001F5FF\"  # symbols & pictographs\n",
    "        u\"\\U0001F680-\\U0001F6FF\"  # transport & map symbols\n",
    "        u\"\\U0001F1E0-\\U0001F1FF\"  # flags (iOS)\n",
    "                           \"]+\", flags=re.UNICODE)"
   ]
  },
  {
   "cell_type": "code",
   "execution_count": 11,
   "metadata": {},
   "outputs": [
    {
     "name": "stderr",
     "output_type": "stream",
     "text": [
      "100%|███████████████████████████████████████████████████████████████████████████| 21465/21465 [02:00<00:00, 178.73it/s]\n"
     ]
    }
   ],
   "source": [
    "corpus=[]\n",
    "from tqdm import tqdm\n",
    "for i in tqdm(range(0,df.shape[0])):\n",
    "    text=df['tweet_text'][i]\n",
    "    text=url_parser(text)\n",
    "    #print(text)\n",
    "    text=re.sub('[^a-zA-Z]',' ',text)\n",
    "    #print(text)\n",
    "    text=re.sub(r\"http\\S+\", \"\", text)\n",
    "    #print(text)\n",
    "    text=text.lower()\n",
    "    #print(text)\n",
    "    text=emoji_pattern.sub(r'', text)\n",
    "    #print(text)\n",
    "    text=text.split()\n",
    "    #print(text)\n",
    "    lemmatizer = WordNetLemmatizer()\n",
    "    text=[lemmatizer.lemmatize(word,pos =\"a\") for word in text if not word in set(stopwords.words('english'))]\n",
    "    #print(text)\n",
    "    #ps=PorterStemmer()\n",
    "    #text=[ps.stem(word) for word in text if not word in set(stopwords.words('english'))]\n",
    "    #print(text)\n",
    "    text=' '.join(text)\n",
    "    #print(text)\n",
    "    corpus.append(text)"
   ]
  },
  {
   "cell_type": "code",
   "execution_count": 12,
   "metadata": {},
   "outputs": [
    {
     "name": "stderr",
     "output_type": "stream",
     "text": [
      "100%|█████████████████████████████████████████████████████████████████████████████| 5398/5398 [00:28<00:00, 188.22it/s]\n"
     ]
    }
   ],
   "source": [
    "corpus_test=[]\n",
    "from tqdm import tqdm\n",
    "for i in tqdm(range(0,test.shape[0])):\n",
    "    text=test['tweet_text'][i]\n",
    "    text=url_parser(text)\n",
    "    #print(text)\n",
    "    text=re.sub('[^a-zA-Z]',' ',text)\n",
    "    #print(text)\n",
    "    text=re.sub(r\"http\\S+\", \"\", text)\n",
    "    #print(text)\n",
    "    text=text.lower()\n",
    "    #print(text)\n",
    "    text=emoji_pattern.sub(r'', text)\n",
    "    #print(text)\n",
    "    text=text.split()\n",
    "    #print(text)\n",
    "    lemmatizer = WordNetLemmatizer()\n",
    "    text=[lemmatizer.lemmatize(word,pos =\"a\") for word in text if not word in set(stopwords.words('english'))]\n",
    "    #print(text)\n",
    "    #ps=PorterStemmer()\n",
    "    #text=[ps.stem(word) for word in text if not word in set(stopwords.words('english'))]\n",
    "    #print(text)\n",
    "    text=' '.join(text)\n",
    "    #print(text)\n",
    "    corpus_test.append(text)"
   ]
  },
  {
   "cell_type": "code",
   "execution_count": 14,
   "metadata": {},
   "outputs": [],
   "source": [
    "# del corpus\n",
    "# del corpus_test"
   ]
  },
  {
   "cell_type": "code",
   "execution_count": 16,
   "metadata": {},
   "outputs": [],
   "source": [
    "df['corpus']=corpus\n",
    "test['corpus']=corpus_test"
   ]
  },
  {
   "cell_type": "code",
   "execution_count": 17,
   "metadata": {
    "scrolled": true
   },
   "outputs": [
    {
     "data": {
      "text/html": [
       "<div>\n",
       "<style scoped>\n",
       "    .dataframe tbody tr th:only-of-type {\n",
       "        vertical-align: middle;\n",
       "    }\n",
       "\n",
       "    .dataframe tbody tr th {\n",
       "        vertical-align: top;\n",
       "    }\n",
       "\n",
       "    .dataframe thead th {\n",
       "        text-align: right;\n",
       "    }\n",
       "</style>\n",
       "<table border=\"1\" class=\"dataframe\">\n",
       "  <thead>\n",
       "    <tr style=\"text-align: right;\">\n",
       "      <th></th>\n",
       "      <th>tweet_id</th>\n",
       "      <th>sentiment</th>\n",
       "      <th>tweet_text</th>\n",
       "      <th>corpus</th>\n",
       "    </tr>\n",
       "  </thead>\n",
       "  <tbody>\n",
       "    <tr>\n",
       "      <th>0</th>\n",
       "      <td>264183816548130816</td>\n",
       "      <td>positive</td>\n",
       "      <td>Gas by my house hit $3.39!!!! I\\u2019m going t...</td>\n",
       "      <td>gas house hit u going chapel hill sat</td>\n",
       "    </tr>\n",
       "    <tr>\n",
       "      <th>1</th>\n",
       "      <td>263405084770172928</td>\n",
       "      <td>negative</td>\n",
       "      <td>Theo Walcott is still shit\\u002c watch Rafa an...</td>\n",
       "      <td>theo walcott still shit u c watch rafa johnny ...</td>\n",
       "    </tr>\n",
       "    <tr>\n",
       "      <th>2</th>\n",
       "      <td>262163168678248449</td>\n",
       "      <td>negative</td>\n",
       "      <td>its not that I\\u2019m a GSP fan\\u002c i just h...</td>\n",
       "      <td>u gsp fan u c hate nick diaz u wait february</td>\n",
       "    </tr>\n",
       "    <tr>\n",
       "      <th>3</th>\n",
       "      <td>264249301910310912</td>\n",
       "      <td>negative</td>\n",
       "      <td>Iranian general says Israel\\u2019s Iron Dome c...</td>\n",
       "      <td>iranian general says israel u iron dome u deal...</td>\n",
       "    </tr>\n",
       "    <tr>\n",
       "      <th>4</th>\n",
       "      <td>262682041215234048</td>\n",
       "      <td>neutral</td>\n",
       "      <td>Tehran\\u002c Mon Amour: Obama Tried to Establi...</td>\n",
       "      <td>tehran u c mon amour obama tried establish tie...</td>\n",
       "    </tr>\n",
       "    <tr>\n",
       "      <th>...</th>\n",
       "      <td>...</td>\n",
       "      <td>...</td>\n",
       "      <td>...</td>\n",
       "      <td>...</td>\n",
       "    </tr>\n",
       "    <tr>\n",
       "      <th>21460</th>\n",
       "      <td>522949024132112384</td>\n",
       "      <td>neutral</td>\n",
       "      <td>the day after newark ill be able to say \"\"i me...</td>\n",
       "      <td>day newark ill able say met demi lovato yester...</td>\n",
       "    </tr>\n",
       "    <tr>\n",
       "      <th>21461</th>\n",
       "      <td>522372593312350209</td>\n",
       "      <td>neutral</td>\n",
       "      <td>FEC hold farewell session for seven ministers ...</td>\n",
       "      <td>fec hold farewell session seven ministers pres...</td>\n",
       "    </tr>\n",
       "    <tr>\n",
       "      <th>21462</th>\n",
       "      <td>522515200592052224</td>\n",
       "      <td>neutral</td>\n",
       "      <td>Luca Di Montezemolo (who's last day was Monday...</td>\n",
       "      <td>luca di montezemolo last day monday alonso lea...</td>\n",
       "    </tr>\n",
       "    <tr>\n",
       "      <th>21463</th>\n",
       "      <td>523089087155437568</td>\n",
       "      <td>positive</td>\n",
       "      <td>Coffee is pretty much the answer to all questi...</td>\n",
       "      <td>coffee pretty much answer questions today frid...</td>\n",
       "    </tr>\n",
       "    <tr>\n",
       "      <th>21464</th>\n",
       "      <td>518290874300514304</td>\n",
       "      <td>neutral</td>\n",
       "      <td>Niki Lauda just confirmed to Sky that Alonso w...</td>\n",
       "      <td>niki lauda confirmed sky alonso released conta...</td>\n",
       "    </tr>\n",
       "  </tbody>\n",
       "</table>\n",
       "<p>21465 rows × 4 columns</p>\n",
       "</div>"
      ],
      "text/plain": [
       "                 tweet_id sentiment  \\\n",
       "0      264183816548130816  positive   \n",
       "1      263405084770172928  negative   \n",
       "2      262163168678248449  negative   \n",
       "3      264249301910310912  negative   \n",
       "4      262682041215234048   neutral   \n",
       "...                   ...       ...   \n",
       "21460  522949024132112384   neutral   \n",
       "21461  522372593312350209   neutral   \n",
       "21462  522515200592052224   neutral   \n",
       "21463  523089087155437568  positive   \n",
       "21464  518290874300514304   neutral   \n",
       "\n",
       "                                              tweet_text  \\\n",
       "0      Gas by my house hit $3.39!!!! I\\u2019m going t...   \n",
       "1      Theo Walcott is still shit\\u002c watch Rafa an...   \n",
       "2      its not that I\\u2019m a GSP fan\\u002c i just h...   \n",
       "3      Iranian general says Israel\\u2019s Iron Dome c...   \n",
       "4      Tehran\\u002c Mon Amour: Obama Tried to Establi...   \n",
       "...                                                  ...   \n",
       "21460  the day after newark ill be able to say \"\"i me...   \n",
       "21461  FEC hold farewell session for seven ministers ...   \n",
       "21462  Luca Di Montezemolo (who's last day was Monday...   \n",
       "21463  Coffee is pretty much the answer to all questi...   \n",
       "21464  Niki Lauda just confirmed to Sky that Alonso w...   \n",
       "\n",
       "                                                  corpus  \n",
       "0                  gas house hit u going chapel hill sat  \n",
       "1      theo walcott still shit u c watch rafa johnny ...  \n",
       "2           u gsp fan u c hate nick diaz u wait february  \n",
       "3      iranian general says israel u iron dome u deal...  \n",
       "4      tehran u c mon amour obama tried establish tie...  \n",
       "...                                                  ...  \n",
       "21460  day newark ill able say met demi lovato yester...  \n",
       "21461  fec hold farewell session seven ministers pres...  \n",
       "21462  luca di montezemolo last day monday alonso lea...  \n",
       "21463  coffee pretty much answer questions today frid...  \n",
       "21464  niki lauda confirmed sky alonso released conta...  \n",
       "\n",
       "[21465 rows x 4 columns]"
      ]
     },
     "execution_count": 17,
     "metadata": {},
     "output_type": "execute_result"
    }
   ],
   "source": [
    "df"
   ]
  },
  {
   "cell_type": "code",
   "execution_count": 18,
   "metadata": {},
   "outputs": [
    {
     "data": {
      "text/html": [
       "<div>\n",
       "<style scoped>\n",
       "    .dataframe tbody tr th:only-of-type {\n",
       "        vertical-align: middle;\n",
       "    }\n",
       "\n",
       "    .dataframe tbody tr th {\n",
       "        vertical-align: top;\n",
       "    }\n",
       "\n",
       "    .dataframe thead th {\n",
       "        text-align: right;\n",
       "    }\n",
       "</style>\n",
       "<table border=\"1\" class=\"dataframe\">\n",
       "  <thead>\n",
       "    <tr style=\"text-align: right;\">\n",
       "      <th></th>\n",
       "      <th>tweet_id</th>\n",
       "      <th>tweet_text</th>\n",
       "      <th>corpus</th>\n",
       "    </tr>\n",
       "  </thead>\n",
       "  <tbody>\n",
       "    <tr>\n",
       "      <th>0</th>\n",
       "      <td>264238274963451904</td>\n",
       "      <td>@jjuueellzz down in the Atlantic city, ventnor...</td>\n",
       "      <td>atlantic city ventnor margate ocean city area ...</td>\n",
       "    </tr>\n",
       "    <tr>\n",
       "      <th>1</th>\n",
       "      <td>218775148495515649</td>\n",
       "      <td>Musical awareness: Great Big Beautiful Tomorro...</td>\n",
       "      <td>musical awareness great big beautiful tomorrow...</td>\n",
       "    </tr>\n",
       "    <tr>\n",
       "      <th>2</th>\n",
       "      <td>258965201766998017</td>\n",
       "      <td>On Radio786 100.4fm 7:10 Fri Oct 19 Labour ana...</td>\n",
       "      <td>radio fm fri oct labour analyst shawn hattingh...</td>\n",
       "    </tr>\n",
       "    <tr>\n",
       "      <th>3</th>\n",
       "      <td>262926411352903682</td>\n",
       "      <td>Kapan sih lo ngebuktiin,jan ngomong doang Susa...</td>\n",
       "      <td>kapan sih lo ngebuktiin jan ngomong doang susa...</td>\n",
       "    </tr>\n",
       "    <tr>\n",
       "      <th>4</th>\n",
       "      <td>171874368908050432</td>\n",
       "      <td>Excuse the connectivity of this live stream, f...</td>\n",
       "      <td>excuse connectivity live stream baba amr many ...</td>\n",
       "    </tr>\n",
       "    <tr>\n",
       "      <th>...</th>\n",
       "      <td>...</td>\n",
       "      <td>...</td>\n",
       "      <td>...</td>\n",
       "    </tr>\n",
       "    <tr>\n",
       "      <th>5393</th>\n",
       "      <td>210378118865756160</td>\n",
       "      <td>It's a Wednesday girls night out as '90's band...</td>\n",
       "      <td>wednesday girls night band wilson phillips fil...</td>\n",
       "    </tr>\n",
       "    <tr>\n",
       "      <th>5394</th>\n",
       "      <td>245177521304399872</td>\n",
       "      <td>night college course sorted, just have to enro...</td>\n",
       "      <td>night college course sorted enrole tomorrow fi...</td>\n",
       "    </tr>\n",
       "    <tr>\n",
       "      <th>5395</th>\n",
       "      <td>259280987089932288</td>\n",
       "      <td>For the 1st time in 30 years. For your splendi...</td>\n",
       "      <td>st time years splendiferous entertainment arts...</td>\n",
       "    </tr>\n",
       "    <tr>\n",
       "      <th>5396</th>\n",
       "      <td>201113950211940352</td>\n",
       "      <td>NURSES DAY - 12 MAY 2012. Nursing: The heart b...</td>\n",
       "      <td>nurses day may nursing heart beat health</td>\n",
       "    </tr>\n",
       "    <tr>\n",
       "      <th>5397</th>\n",
       "      <td>237999067286876160</td>\n",
       "      <td>We have 15 minutes left until the 2nd episode ...</td>\n",
       "      <td>minutes left nd episode styled rock uknavi rih...</td>\n",
       "    </tr>\n",
       "  </tbody>\n",
       "</table>\n",
       "<p>5398 rows × 3 columns</p>\n",
       "</div>"
      ],
      "text/plain": [
       "                tweet_id                                         tweet_text  \\\n",
       "0     264238274963451904  @jjuueellzz down in the Atlantic city, ventnor...   \n",
       "1     218775148495515649  Musical awareness: Great Big Beautiful Tomorro...   \n",
       "2     258965201766998017  On Radio786 100.4fm 7:10 Fri Oct 19 Labour ana...   \n",
       "3     262926411352903682  Kapan sih lo ngebuktiin,jan ngomong doang Susa...   \n",
       "4     171874368908050432  Excuse the connectivity of this live stream, f...   \n",
       "...                  ...                                                ...   \n",
       "5393  210378118865756160  It's a Wednesday girls night out as '90's band...   \n",
       "5394  245177521304399872  night college course sorted, just have to enro...   \n",
       "5395  259280987089932288  For the 1st time in 30 years. For your splendi...   \n",
       "5396  201113950211940352  NURSES DAY - 12 MAY 2012. Nursing: The heart b...   \n",
       "5397  237999067286876160  We have 15 minutes left until the 2nd episode ...   \n",
       "\n",
       "                                                 corpus  \n",
       "0     atlantic city ventnor margate ocean city area ...  \n",
       "1     musical awareness great big beautiful tomorrow...  \n",
       "2     radio fm fri oct labour analyst shawn hattingh...  \n",
       "3     kapan sih lo ngebuktiin jan ngomong doang susa...  \n",
       "4     excuse connectivity live stream baba amr many ...  \n",
       "...                                                 ...  \n",
       "5393  wednesday girls night band wilson phillips fil...  \n",
       "5394  night college course sorted enrole tomorrow fi...  \n",
       "5395  st time years splendiferous entertainment arts...  \n",
       "5396           nurses day may nursing heart beat health  \n",
       "5397  minutes left nd episode styled rock uknavi rih...  \n",
       "\n",
       "[5398 rows x 3 columns]"
      ]
     },
     "execution_count": 18,
     "metadata": {},
     "output_type": "execute_result"
    }
   ],
   "source": [
    "test"
   ]
  },
  {
   "cell_type": "code",
   "execution_count": 21,
   "metadata": {},
   "outputs": [],
   "source": [
    "from sklearn.feature_extraction.text import TfidfVectorizer,CountVectorizer\n",
    "#from sklearn.model_selection import train_test_split"
   ]
  },
  {
   "cell_type": "code",
   "execution_count": null,
   "metadata": {},
   "outputs": [],
   "source": [
    "# x_train,x_test,y_train,y_test=train_test_split(df['corpus'].values,df['sentiment'].values,test_size=0.2)"
   ]
  },
  {
   "cell_type": "code",
   "execution_count": 17,
   "metadata": {},
   "outputs": [],
   "source": [
    "cv=CountVectorizer()\n",
    "train_cv=cv.fit_transform(df['corpus'].values)\n"
   ]
  },
  {
   "cell_type": "code",
   "execution_count": 18,
   "metadata": {},
   "outputs": [
    {
     "data": {
      "text/plain": [
       "(21465, 26874)"
      ]
     },
     "execution_count": 18,
     "metadata": {},
     "output_type": "execute_result"
    }
   ],
   "source": [
    "train_cv.shape"
   ]
  },
  {
   "cell_type": "code",
   "execution_count": 22,
   "metadata": {},
   "outputs": [],
   "source": [
    "tfidf=TfidfVectorizer()\n",
    "train_tfidf=tfidf.fit_transform(df['corpus'].values)\n",
    "test_tfidf=tfidf.transform(test['corpus'].values)"
   ]
  },
  {
   "cell_type": "code",
   "execution_count": 23,
   "metadata": {},
   "outputs": [
    {
     "data": {
      "text/plain": [
       "(21465, 26874)"
      ]
     },
     "execution_count": 23,
     "metadata": {},
     "output_type": "execute_result"
    }
   ],
   "source": [
    "train_tfidf.shape"
   ]
  },
  {
   "cell_type": "code",
   "execution_count": 24,
   "metadata": {},
   "outputs": [],
   "source": [
    "from time import time"
   ]
  },
  {
   "cell_type": "markdown",
   "metadata": {},
   "source": [
    "# Support Vector Machines"
   ]
  },
  {
   "cell_type": "code",
   "execution_count": 26,
   "metadata": {},
   "outputs": [],
   "source": [
    "from sklearn.svm import SVC\n",
    "svm=SVC(kernel='rbf')\n",
    "from time import time\n",
    "start=time()\n",
    "svm.fit(train_tfidf,df['sentiment'].values)\n",
    "end=time()"
   ]
  },
  {
   "cell_type": "code",
   "execution_count": 27,
   "metadata": {},
   "outputs": [
    {
     "name": "stdout",
     "output_type": "stream",
     "text": [
      "Time taken to train is 138.57800006866455 seconds \n"
     ]
    }
   ],
   "source": [
    "print(f'Time taken to train is {end-start} seconds ')"
   ]
  },
  {
   "cell_type": "code",
   "execution_count": 28,
   "metadata": {},
   "outputs": [],
   "source": [
    "svm_predictions=svm.predict(test_tfidf)"
   ]
  },
  {
   "cell_type": "markdown",
   "metadata": {},
   "source": [
    "# Naive Bayes Classifier"
   ]
  },
  {
   "cell_type": "code",
   "execution_count": 29,
   "metadata": {},
   "outputs": [],
   "source": [
    "from sklearn.naive_bayes import ComplementNB"
   ]
  },
  {
   "cell_type": "code",
   "execution_count": 30,
   "metadata": {},
   "outputs": [
    {
     "name": "stdout",
     "output_type": "stream",
     "text": [
      "Time taken to train is 0.054999351501464844 seconds \n"
     ]
    }
   ],
   "source": [
    "cnb=ComplementNB()\n",
    "from time import time\n",
    "start=time()\n",
    "cnb.fit(train_tfidf,df['sentiment'].values)\n",
    "end=time()\n",
    "print(f'Time taken to train is {end-start} seconds ')"
   ]
  },
  {
   "cell_type": "code",
   "execution_count": 33,
   "metadata": {},
   "outputs": [],
   "source": [
    "cnb_predictions=cnb.predict(test_tfidf)"
   ]
  },
  {
   "cell_type": "code",
   "execution_count": 41,
   "metadata": {},
   "outputs": [],
   "source": [
    "from sklearn.naive_bayes import MultinomialNB"
   ]
  },
  {
   "cell_type": "code",
   "execution_count": 42,
   "metadata": {},
   "outputs": [
    {
     "name": "stdout",
     "output_type": "stream",
     "text": [
      "Time taken to train is 0.04703474044799805 seconds \n"
     ]
    }
   ],
   "source": [
    "mnb=MultinomialNB()\n",
    "from time import time\n",
    "start=time()\n",
    "mnb.fit(train_tfidf,df['sentiment'].values)\n",
    "end=time()\n",
    "print(f'Time taken to train is {end-start} seconds ')"
   ]
  },
  {
   "cell_type": "code",
   "execution_count": 47,
   "metadata": {},
   "outputs": [],
   "source": [
    "mnb_predictions=mnb.predict(test_tfidf)"
   ]
  },
  {
   "cell_type": "code",
   "execution_count": 38,
   "metadata": {},
   "outputs": [],
   "source": [
    "svm_pred_df=pd.DataFrame({'tweet_id':test['tweet_id'].values,'sentiment':svm_predictions})\n",
    "svm_pred_df.to_csv('svm_preds.csv',index=False)"
   ]
  },
  {
   "cell_type": "code",
   "execution_count": 46,
   "metadata": {},
   "outputs": [],
   "source": [
    "cnb_pred_df=pd.DataFrame({'tweet_id':test['tweet_id'].values,'sentiment':cnb_predictions})\n",
    "cnb_pred_df.to_csv('cnb_preds.csv',index=False)"
   ]
  },
  {
   "cell_type": "code",
   "execution_count": 48,
   "metadata": {},
   "outputs": [],
   "source": [
    "mnb_pred_df=pd.DataFrame({'tweet_id':test['tweet_id'].values,'sentiment':mnb_predictions})\n",
    "mnb_pred_df.to_csv('mnb_preds.csv',index=False)"
   ]
  },
  {
   "cell_type": "code",
   "execution_count": null,
   "metadata": {},
   "outputs": [],
   "source": []
  }
 ],
 "metadata": {
  "kernelspec": {
   "display_name": "Python 3",
   "language": "python",
   "name": "python3"
  },
  "language_info": {
   "codemirror_mode": {
    "name": "ipython",
    "version": 3
   },
   "file_extension": ".py",
   "mimetype": "text/x-python",
   "name": "python",
   "nbconvert_exporter": "python",
   "pygments_lexer": "ipython3",
   "version": "3.7.7"
  }
 },
 "nbformat": 4,
 "nbformat_minor": 4
}
