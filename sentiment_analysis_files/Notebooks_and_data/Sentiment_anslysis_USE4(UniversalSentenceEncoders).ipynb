{
 "cells": [
  {
   "cell_type": "code",
   "execution_count": null,
   "metadata": {},
   "outputs": [],
   "source": [
    "ls"
   ]
  },
  {
   "cell_type": "code",
   "execution_count": null,
   "metadata": {},
   "outputs": [],
   "source": [
    "ls USE4"
   ]
  },
  {
   "cell_type": "code",
   "execution_count": 11,
   "metadata": {},
   "outputs": [],
   "source": [
    "import tensorflow as tf\n",
    "import re\n",
    "import pandas as pd\n",
    "import numpy as np\n",
    "from tqdm import tqdm\n",
    "import keras\n",
    "import tensorflow_hub as hub"
   ]
  },
  {
   "cell_type": "code",
   "execution_count": 10,
   "metadata": {},
   "outputs": [],
   "source": [
    "import nltk\n",
    "#nltk.download('stopwords')\n",
    "#nltk.download('wordnet')\n",
    "from nltk.corpus import stopwords\n",
    "from nltk.stem.porter import PorterStemmer\n",
    "from sklearn.metrics import confusion_matrix,f1_score,accuracy_score\n",
    "import os\n",
    "import csv\n",
    "import string\n",
    "from numpy.random import RandomState\n",
    "import urllib.parse\n",
    "from nltk.stem import WordNetLemmatizer\n",
    "import matplotlib.pyplot as plt"
   ]
  },
  {
   "cell_type": "code",
   "execution_count": 18,
   "metadata": {},
   "outputs": [],
   "source": [
    "embeddings=hub.load(r'.\\USE4')"
   ]
  },
  {
   "cell_type": "code",
   "execution_count": 17,
   "metadata": {},
   "outputs": [],
   "source": [
    "df_train=pd.read_csv('train.txt')"
   ]
  },
  {
   "cell_type": "code",
   "execution_count": 19,
   "metadata": {},
   "outputs": [
    {
     "data": {
      "text/html": [
       "<div>\n",
       "<style scoped>\n",
       "    .dataframe tbody tr th:only-of-type {\n",
       "        vertical-align: middle;\n",
       "    }\n",
       "\n",
       "    .dataframe tbody tr th {\n",
       "        vertical-align: top;\n",
       "    }\n",
       "\n",
       "    .dataframe thead th {\n",
       "        text-align: right;\n",
       "    }\n",
       "</style>\n",
       "<table border=\"1\" class=\"dataframe\">\n",
       "  <thead>\n",
       "    <tr style=\"text-align: right;\">\n",
       "      <th></th>\n",
       "      <th>tweet_id</th>\n",
       "      <th>sentiment</th>\n",
       "      <th>tweet_text</th>\n",
       "    </tr>\n",
       "  </thead>\n",
       "  <tbody>\n",
       "    <tr>\n",
       "      <th>0</th>\n",
       "      <td>264183816548130816</td>\n",
       "      <td>positive</td>\n",
       "      <td>Gas by my house hit $3.39!!!! I\\u2019m going t...</td>\n",
       "    </tr>\n",
       "    <tr>\n",
       "      <th>1</th>\n",
       "      <td>263405084770172928</td>\n",
       "      <td>negative</td>\n",
       "      <td>Theo Walcott is still shit\\u002c watch Rafa an...</td>\n",
       "    </tr>\n",
       "    <tr>\n",
       "      <th>2</th>\n",
       "      <td>262163168678248449</td>\n",
       "      <td>negative</td>\n",
       "      <td>its not that I\\u2019m a GSP fan\\u002c i just h...</td>\n",
       "    </tr>\n",
       "    <tr>\n",
       "      <th>3</th>\n",
       "      <td>264249301910310912</td>\n",
       "      <td>negative</td>\n",
       "      <td>Iranian general says Israel\\u2019s Iron Dome c...</td>\n",
       "    </tr>\n",
       "    <tr>\n",
       "      <th>4</th>\n",
       "      <td>262682041215234048</td>\n",
       "      <td>neutral</td>\n",
       "      <td>Tehran\\u002c Mon Amour: Obama Tried to Establi...</td>\n",
       "    </tr>\n",
       "    <tr>\n",
       "      <th>...</th>\n",
       "      <td>...</td>\n",
       "      <td>...</td>\n",
       "      <td>...</td>\n",
       "    </tr>\n",
       "    <tr>\n",
       "      <th>21460</th>\n",
       "      <td>522949024132112384</td>\n",
       "      <td>neutral</td>\n",
       "      <td>the day after newark ill be able to say \"\"i me...</td>\n",
       "    </tr>\n",
       "    <tr>\n",
       "      <th>21461</th>\n",
       "      <td>522372593312350209</td>\n",
       "      <td>neutral</td>\n",
       "      <td>FEC hold farewell session for seven ministers ...</td>\n",
       "    </tr>\n",
       "    <tr>\n",
       "      <th>21462</th>\n",
       "      <td>522515200592052224</td>\n",
       "      <td>neutral</td>\n",
       "      <td>Luca Di Montezemolo (who's last day was Monday...</td>\n",
       "    </tr>\n",
       "    <tr>\n",
       "      <th>21463</th>\n",
       "      <td>523089087155437568</td>\n",
       "      <td>positive</td>\n",
       "      <td>Coffee is pretty much the answer to all questi...</td>\n",
       "    </tr>\n",
       "    <tr>\n",
       "      <th>21464</th>\n",
       "      <td>518290874300514304</td>\n",
       "      <td>neutral</td>\n",
       "      <td>Niki Lauda just confirmed to Sky that Alonso w...</td>\n",
       "    </tr>\n",
       "  </tbody>\n",
       "</table>\n",
       "<p>21465 rows × 3 columns</p>\n",
       "</div>"
      ],
      "text/plain": [
       "                 tweet_id sentiment  \\\n",
       "0      264183816548130816  positive   \n",
       "1      263405084770172928  negative   \n",
       "2      262163168678248449  negative   \n",
       "3      264249301910310912  negative   \n",
       "4      262682041215234048   neutral   \n",
       "...                   ...       ...   \n",
       "21460  522949024132112384   neutral   \n",
       "21461  522372593312350209   neutral   \n",
       "21462  522515200592052224   neutral   \n",
       "21463  523089087155437568  positive   \n",
       "21464  518290874300514304   neutral   \n",
       "\n",
       "                                              tweet_text  \n",
       "0      Gas by my house hit $3.39!!!! I\\u2019m going t...  \n",
       "1      Theo Walcott is still shit\\u002c watch Rafa an...  \n",
       "2      its not that I\\u2019m a GSP fan\\u002c i just h...  \n",
       "3      Iranian general says Israel\\u2019s Iron Dome c...  \n",
       "4      Tehran\\u002c Mon Amour: Obama Tried to Establi...  \n",
       "...                                                  ...  \n",
       "21460  the day after newark ill be able to say \"\"i me...  \n",
       "21461  FEC hold farewell session for seven ministers ...  \n",
       "21462  Luca Di Montezemolo (who's last day was Monday...  \n",
       "21463  Coffee is pretty much the answer to all questi...  \n",
       "21464  Niki Lauda just confirmed to Sky that Alonso w...  \n",
       "\n",
       "[21465 rows x 3 columns]"
      ]
     },
     "execution_count": 19,
     "metadata": {},
     "output_type": "execute_result"
    }
   ],
   "source": [
    "df_train"
   ]
  },
  {
   "cell_type": "code",
   "execution_count": 12,
   "metadata": {},
   "outputs": [],
   "source": [
    "def url_parser(string):\n",
    "  new_string = ''\n",
    "  for i in string.split():\n",
    "     s, n, p, pa, q, f = urllib.parse.urlparse(i)\n",
    "     if s and n:\n",
    "         pass\n",
    "     elif i[:1] == '@':\n",
    "         pass\n",
    "     elif i[:1] == '#':\n",
    "         new_string = new_string.strip() + ' ' + i[1:]\n",
    "     else:\n",
    "         new_string = new_string.strip() + ' ' + i\n",
    "  return new_string\n",
    "\n",
    "emoji_pattern = re.compile(\"[\"\n",
    "        u\"\\U0001F600-\\U0001F64F\"  # emoticons\n",
    "        u\"\\U0001F300-\\U0001F5FF\"  # symbols & pictographs\n",
    "        u\"\\U0001F680-\\U0001F6FF\"  # transport & map symbols\n",
    "        u\"\\U0001F1E0-\\U0001F1FF\"  # flags (iOS)\n",
    "                           \"]+\", flags=re.UNICODE)\n"
   ]
  },
  {
   "cell_type": "code",
   "execution_count": 20,
   "metadata": {},
   "outputs": [
    {
     "name": "stderr",
     "output_type": "stream",
     "text": [
      "100%|███████████████████████████████████████████████████████████████████████████| 21465/21465 [01:51<00:00, 193.12it/s]\n"
     ]
    }
   ],
   "source": [
    "corpus=[]\n",
    "from tqdm import tqdm\n",
    "for i in tqdm(range(0,df_train.shape[0])):\n",
    "    text=df_train['tweet_text'][i]\n",
    "    text=url_parser(text)\n",
    "    #print(text)\n",
    "    text=re.sub('[^a-zA-Z]',' ',text)\n",
    "    #print(text)\n",
    "    text=re.sub(r\"http\\S+\", \"\", text)\n",
    "    #print(text)\n",
    "    text=text.lower()\n",
    "    #print(text)\n",
    "    text=emoji_pattern.sub(r'', text)\n",
    "    #print(text)\n",
    "    text=text.split()\n",
    "    #print(text)\n",
    "    lemmatizer = WordNetLemmatizer()\n",
    "    text=[lemmatizer.lemmatize(word,pos =\"a\") for word in text if not word in set(stopwords.words('english'))]\n",
    "    #print(text)\n",
    "    #ps=PorterStemmer()\n",
    "    #text=[ps.stem(word) for word in text if not word in set(stopwords.words('english'))]\n",
    "    #print(text)\n",
    "    text=' '.join(text)\n",
    "    #print(text)\n",
    "    corpus.append(text)"
   ]
  },
  {
   "cell_type": "code",
   "execution_count": 21,
   "metadata": {},
   "outputs": [
    {
     "name": "stderr",
     "output_type": "stream",
     "text": [
      "100%|███████████████████████████████████████████████████████████████████████████| 21465/21465 [02:32<00:00, 140.37it/s]\n"
     ]
    }
   ],
   "source": [
    "vec_embeddings=[]\n",
    "for text in tqdm(corpus):\n",
    "    vector=tf.make_ndarray(tf.make_tensor_proto(embeddings([text]))).tolist()\n",
    "    vec_embeddings.append(vector)"
   ]
  },
  {
   "cell_type": "code",
   "execution_count": 22,
   "metadata": {},
   "outputs": [],
   "source": [
    "vec_embeddings_arr=np.array(vec_embeddings).reshape(21465,512,1)"
   ]
  },
  {
   "cell_type": "code",
   "execution_count": 23,
   "metadata": {},
   "outputs": [],
   "source": [
    "from sklearn.preprocessing import OneHotEncoder\n",
    "ohe=OneHotEncoder()\n",
    "labels=ohe.fit_transform(df_train['sentiment'].values.reshape(-1,1)).todense()"
   ]
  },
  {
   "cell_type": "code",
   "execution_count": 24,
   "metadata": {},
   "outputs": [],
   "source": [
    "labels=np.array(labels)"
   ]
  },
  {
   "cell_type": "code",
   "execution_count": 13,
   "metadata": {},
   "outputs": [],
   "source": [
    "def UniversalEmbedding(x):\n",
    "    return embeddings(tf.squeeze(tf.cast(x, tf.string)))"
   ]
  },
  {
   "cell_type": "code",
   "execution_count": 25,
   "metadata": {},
   "outputs": [],
   "source": [
    "from sklearn.model_selection import train_test_split\n",
    "x_train,x_test,y_train,y_test=train_test_split(vec_embeddings_arr,labels,test_size=0.1)"
   ]
  },
  {
   "cell_type": "code",
   "execution_count": 15,
   "metadata": {},
   "outputs": [],
   "source": [
    "vector_size=512\n",
    "batch_size=128\n",
    "num_epochs=100"
   ]
  },
  {
   "cell_type": "code",
   "execution_count": 16,
   "metadata": {},
   "outputs": [],
   "source": [
    "from keras.models import Sequential\n",
    "from keras.layers import Conv1D,Dropout,Dense,Flatten,LSTM,MaxPooling1D,Bidirectional\n",
    "from keras.optimizers import Adam\n",
    "from keras.callbacks import EarlyStopping,TensorBoard"
   ]
  },
  {
   "cell_type": "code",
   "execution_count": 17,
   "metadata": {},
   "outputs": [],
   "source": [
    "from kerastuner.tuners import RandomSearch"
   ]
  },
  {
   "cell_type": "code",
   "execution_count": 18,
   "metadata": {},
   "outputs": [],
   "source": [
    "from kerastuner import HyperModel"
   ]
  },
  {
   "cell_type": "code",
   "execution_count": 19,
   "metadata": {},
   "outputs": [],
   "source": [
    "class nlp_model(HyperModel):\n",
    "    def __init__(self,classes):\n",
    "        self.classes=classes\n",
    "    \n",
    "    def build(self,hp):\n",
    "        model=Sequential([Conv1D(filters=hp.Int('Conv_Layer_1',min_value=32,max_value=96,step=16),kernel_size=hp.Choice('conv_1_kernel',values=[3,5]),activation='relu',padding='same',input_shape=(vector_size,1)),\n",
    "                         Conv1D(filters=hp.Int('Conv_Layer_2',min_value=32,max_value=96,step=16),kernel_size=hp.Choice('conv_2_kernel',values=[3,5]),activation='relu',padding='same',input_shape=(vector_size,1)),\n",
    "                         MaxPooling1D(pool_size=hp.Choice('max_pool_kernel',values=[3,5])),\n",
    "                         Bidirectional(LSTM(512, dropout=0.2, recurrent_dropout=0)),\n",
    "                         Dense(512, activation='relu'),\n",
    "                         Dropout(0.25),\n",
    "                         Dense(units=hp.Int('dense2_units',\n",
    "                                            min_value=96,\n",
    "                                            max_value=512,\n",
    "                                            step=32), activation='sigmoid'),\n",
    "                          \n",
    "                         Dropout(0.35),\n",
    "                         Dense(units=hp.Int('dense3_units',\n",
    "                                            min_value=96,\n",
    "                                            max_value=512,\n",
    "                                            step=32), activation='sigmoid'),\n",
    "                         \n",
    "                         Dense(self.classes, activation='softmax'),\n",
    "                         ])\n",
    "        model.compile(optimizer=Adam(hp.Choice('learning_rate', values=[1e-2, 1e-4])),\n",
    "              loss='categorical_crossentropy',\n",
    "              metrics=['accuracy'])\n",
    "        return model"
   ]
  },
  {
   "cell_type": "code",
   "execution_count": 20,
   "metadata": {},
   "outputs": [],
   "source": [
    "hypermodel=nlp_model(classes=3)"
   ]
  },
  {
   "cell_type": "code",
   "execution_count": 43,
   "metadata": {},
   "outputs": [
    {
     "name": "stdout",
     "output_type": "stream",
     "text": [
      "INFO:tensorflow:Reloading Oracle from existing project my_dir\\nlp_project\\oracle.json\n",
      "INFO:tensorflow:Reloading Tuner from my_dir\\nlp_project\\tuner0.json\n"
     ]
    }
   ],
   "source": [
    "tuner=RandomSearch(hypermodel,objective='val_accuracy',max_trials=6,\n",
    "                  directory='my_dir',project_name='nlp_project')"
   ]
  },
  {
   "cell_type": "code",
   "execution_count": 49,
   "metadata": {},
   "outputs": [
    {
     "name": "stdout",
     "output_type": "stream",
     "text": [
      "INFO:tensorflow:Oracle triggered exit\n"
     ]
    }
   ],
   "source": [
    "tuner.search(x_train,y_train,epochs=5,validation_data=(x_test,y_test))"
   ]
  },
  {
   "cell_type": "code",
   "execution_count": 27,
   "metadata": {},
   "outputs": [
    {
     "data": {
      "text/plain": [
       "<tensorflow.python.keras.engine.sequential.Sequential at 0x18ad7168d08>"
      ]
     },
     "execution_count": 27,
     "metadata": {},
     "output_type": "execute_result"
    }
   ],
   "source": [
    "tuner.get_best_models(num_models=1)[0]"
   ]
  },
  {
   "cell_type": "code",
   "execution_count": null,
   "metadata": {},
   "outputs": [],
   "source": [
    "model.save('Best_model_by_fine_tuning')"
   ]
  },
  {
   "cell_type": "code",
   "execution_count": null,
   "metadata": {},
   "outputs": [],
   "source": [
    "model.summary()"
   ]
  },
  {
   "cell_type": "markdown",
   "metadata": {},
   "source": [
    "# Testing"
   ]
  },
  {
   "cell_type": "code",
   "execution_count": 8,
   "metadata": {},
   "outputs": [],
   "source": [
    "df_test=pd.read_csv('test_samples.txt')"
   ]
  },
  {
   "cell_type": "code",
   "execution_count": null,
   "metadata": {},
   "outputs": [],
   "source": [
    "df_test"
   ]
  },
  {
   "cell_type": "code",
   "execution_count": null,
   "metadata": {},
   "outputs": [],
   "source": []
  },
  {
   "cell_type": "code",
   "execution_count": 13,
   "metadata": {},
   "outputs": [
    {
     "name": "stderr",
     "output_type": "stream",
     "text": [
      "100%|█████████████████████████████████████████████████████████████████████████████| 5398/5398 [00:27<00:00, 193.13it/s]\n"
     ]
    }
   ],
   "source": [
    "test_corpus=[]\n",
    "from tqdm import tqdm\n",
    "for i in tqdm(range(0,df_test.shape[0])):\n",
    "    text=df_test['tweet_text'][i]\n",
    "    text=url_parser(text)\n",
    "    #print(text)\n",
    "    text=re.sub('[^a-zA-Z]',' ',text)\n",
    "    #print(text)\n",
    "    text=re.sub(r\"http\\S+\", \"\", text)\n",
    "    #print(text)\n",
    "    text=text.lower()\n",
    "    #print(text)\n",
    "    text=emoji_pattern.sub(r'', text)\n",
    "    #print(text)\n",
    "    text=text.split()\n",
    "    #print(text)\n",
    "    lemmatizer = WordNetLemmatizer()\n",
    "    text=[lemmatizer.lemmatize(word,pos =\"a\") for word in text if not word in set(stopwords.words('english'))]\n",
    "    #print(text)\n",
    "    #ps=PorterStemmer()\n",
    "    #text=[ps.stem(word) for word in text if not word in set(stopwords.words('english'))]\n",
    "    #print(text)\n",
    "    text=' '.join(text)\n",
    "    #print(text)\n",
    "    test_corpus.append(text)"
   ]
  },
  {
   "cell_type": "code",
   "execution_count": 14,
   "metadata": {},
   "outputs": [
    {
     "name": "stderr",
     "output_type": "stream",
     "text": [
      "100%|█████████████████████████████████████████████████████████████████████████████| 5398/5398 [00:38<00:00, 141.47it/s]\n"
     ]
    }
   ],
   "source": [
    "test_vec_embeddings=[]\n",
    "\n",
    "for text in tqdm(test_corpus):\n",
    "    vector=tf.make_ndarray(tf.make_tensor_proto(embeddings([text]))).tolist()\n",
    "    test_vec_embeddings.append(vector)"
   ]
  },
  {
   "cell_type": "code",
   "execution_count": 15,
   "metadata": {},
   "outputs": [],
   "source": [
    "test_vec_embeddings_arr=np.array(test_vec_embeddings).reshape(5398,512,1)"
   ]
  },
  {
   "cell_type": "code",
   "execution_count": 31,
   "metadata": {},
   "outputs": [],
   "source": [
    "reconstructed_model = keras.models.load_model(\"Best_model_by_fine_tuning\")"
   ]
  },
  {
   "cell_type": "raw",
   "metadata": {},
   "source": [
    "reconstructed_model.summary()"
   ]
  },
  {
   "cell_type": "code",
   "execution_count": 32,
   "metadata": {},
   "outputs": [
    {
     "name": "stdout",
     "output_type": "stream",
     "text": [
      "Epoch 1/10\n",
      "387/387 [==============================] - 19s 50ms/step - loss: 0.9098 - accuracy: 0.5504 - val_loss: 0.9143 - val_accuracy: 0.5575\n",
      "Epoch 2/10\n",
      "387/387 [==============================] - 19s 49ms/step - loss: 0.9047 - accuracy: 0.5520 - val_loss: 0.9232 - val_accuracy: 0.5459\n",
      "Epoch 3/10\n",
      "387/387 [==============================] - 19s 49ms/step - loss: 0.9013 - accuracy: 0.5567 - val_loss: 0.9130 - val_accuracy: 0.5519\n",
      "Epoch 4/10\n",
      "387/387 [==============================] - 19s 49ms/step - loss: 0.8989 - accuracy: 0.5565 - val_loss: 0.9117 - val_accuracy: 0.5491\n",
      "Epoch 5/10\n",
      "387/387 [==============================] - 19s 50ms/step - loss: 0.8953 - accuracy: 0.5594 - val_loss: 0.9179 - val_accuracy: 0.5487\n",
      "Epoch 6/10\n",
      "387/387 [==============================] - 19s 50ms/step - loss: 0.8909 - accuracy: 0.5610 - val_loss: 0.9092 - val_accuracy: 0.5599\n",
      "Epoch 7/10\n",
      "387/387 [==============================] - 19s 50ms/step - loss: 0.8869 - accuracy: 0.5652 - val_loss: 0.9057 - val_accuracy: 0.5599\n",
      "Epoch 8/10\n",
      "387/387 [==============================] - 19s 50ms/step - loss: 0.8834 - accuracy: 0.5660 - val_loss: 0.9066 - val_accuracy: 0.5626\n",
      "Epoch 9/10\n",
      "387/387 [==============================] - 19s 50ms/step - loss: 0.8772 - accuracy: 0.5744 - val_loss: 0.9168 - val_accuracy: 0.5501\n",
      "Epoch 10/10\n",
      "387/387 [==============================] - 19s 50ms/step - loss: 0.8753 - accuracy: 0.5719 - val_loss: 0.9121 - val_accuracy: 0.5668\n"
     ]
    }
   ],
   "source": [
    "history=reconstructed_model.fit(\n",
    "    x=x_train, y=y_train, batch_size=50, epochs=10, verbose=1, callbacks=None,\n",
    "    validation_split=0.0, validation_data=(x_test,y_test))"
   ]
  },
  {
   "cell_type": "code",
   "execution_count": 33,
   "metadata": {},
   "outputs": [
    {
     "name": "stdout",
     "output_type": "stream",
     "text": [
      "dict_keys(['loss', 'accuracy', 'val_loss', 'val_accuracy'])\n"
     ]
    },
    {
     "data": {
      "image/png": "[encoded data removed]",
      "text/plain": [
       "<Figure size 432x288 with 1 Axes>"
      ]
     },
     "metadata": {
      "needs_background": "light"
     },
     "output_type": "display_data"
    },
    {
     "data": {
      "image/png": "[encoded data removed]",
      "text/plain": [
       "<Figure size 432x288 with 1 Axes>"
      ]
     },
     "metadata": {
      "needs_background": "light"
     },
     "output_type": "display_data"
    }
   ],
   "source": [
    "print(history.history.keys())\n",
    "# summarize history for accuracy\n",
    "plt.plot(history.history['accuracy'])\n",
    "plt.plot(history.history['val_accuracy'])\n",
    "plt.title('model accuracy')\n",
    "plt.ylabel('accuracy')\n",
    "plt.xlabel('epoch')\n",
    "plt.legend(['train', 'validation'], loc='upper left')\n",
    "plt.show()\n",
    "# summarize history for loss\n",
    "plt.plot(history.history['loss'])\n",
    "plt.plot(history.history['val_loss'])\n",
    "plt.title('model loss')\n",
    "plt.ylabel('loss')\n",
    "plt.xlabel('epoch')\n",
    "plt.legend(['train', 'validation'], loc='upper left')\n",
    "plt.show()"
   ]
  },
  {
   "cell_type": "code",
   "execution_count": 7,
   "metadata": {},
   "outputs": [],
   "source": [
    "from keras.utils import plot_model"
   ]
  },
  {
   "cell_type": "code",
   "execution_count": null,
   "metadata": {},
   "outputs": [],
   "source": [
    "predictions=reconstructed_model.predict(test_vec_embeddings_arr)"
   ]
  },
  {
   "cell_type": "code",
   "execution_count": null,
   "metadata": {},
   "outputs": [],
   "source": [
    "predictions=np.argmax(predictions,axis=1)"
   ]
  },
  {
   "cell_type": "code",
   "execution_count": null,
   "metadata": {},
   "outputs": [],
   "source": [
    "np.unique(pred_df.sentiment.values,return_counts=True)"
   ]
  },
  {
   "cell_type": "code",
   "execution_count": null,
   "metadata": {},
   "outputs": [],
   "source": [
    "#010 neutral,001 positive,100 negative"
   ]
  },
  {
   "cell_type": "code",
   "execution_count": null,
   "metadata": {},
   "outputs": [],
   "source": [
    "pred_dict={'0':'negative','1':'neutral','2':'positive'}"
   ]
  },
  {
   "cell_type": "code",
   "execution_count": null,
   "metadata": {},
   "outputs": [],
   "source": [
    "transforms=[]\n",
    "for preds in predictions:\n",
    "    transforms.append(pred_dict[str(preds)])"
   ]
  },
  {
   "cell_type": "code",
   "execution_count": null,
   "metadata": {},
   "outputs": [],
   "source": [
    "pred_df=pd.DataFrame({'tweet_id':df_test['tweet_id'].values,'sentiment':transforms})"
   ]
  },
  {
   "cell_type": "code",
   "execution_count": null,
   "metadata": {},
   "outputs": [],
   "source": [
    "pred_df.to_csv('submission_USE4.csv',index=False)"
   ]
  },
  {
   "cell_type": "code",
   "execution_count": null,
   "metadata": {},
   "outputs": [],
   "source": []
  }
 ],
 "metadata": {
  "kernelspec": {
   "display_name": "Python 3",
   "language": "python",
   "name": "python3"
  },
  "language_info": {
   "codemirror_mode": {
    "name": "ipython",
    "version": 3
   },
   "file_extension": ".py",
   "mimetype": "text/x-python",
   "name": "python",
   "nbconvert_exporter": "python",
   "pygments_lexer": "ipython3",
   "version": "3.7.7"
  }
 },
 "nbformat": 4,
 "nbformat_minor": 4
}
